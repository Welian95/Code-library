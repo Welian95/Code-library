{
 "cells": [
  {
   "cell_type": "markdown",
   "id": "794ede5a",
   "metadata": {},
   "source": [
    "# Lastganganalyse"
   ]
  },
  {
   "cell_type": "markdown",
   "metadata": {},
   "source": [
    "# 1. Modulimport"
   ]
  },
  {
   "cell_type": "code",
   "execution_count": 79,
   "id": "55dfce9c",
   "metadata": {},
   "outputs": [],
   "source": [
    "import pandas as pd\n",
    "import math as m\n",
    "import numpy as np\n",
    "import datetime\n",
    "from datetime import timedelta\n",
    "import seaborn as sns\n",
    "import matplotlib.pyplot as plt\n",
    "\n",
    "#Satistik (Regression)\n",
    "from sklearn.linear_model import LinearRegression\n",
    "from sklearn.metrics import mean_squared_error, r2_score \n",
    "import statsmodels.api as sm\n",
    "\n",
    "#os to check folders\n",
    "import os \n",
    "import glob\n",
    "\n",
    "#Excel:\n",
    "import xlwings as xw\n",
    "\n",
    "#Shutup\n",
    "import shutup; shutup.please() #Ignoriert die Warnung, das Python nicht mit dem Dropdown aus Excel arbeiten kann"
   ]
  },
  {
   "cell_type": "markdown",
   "id": "7ec8588a",
   "metadata": {},
   "source": [
    "# 2. Daten aus Excel einladen "
   ]
  },
  {
   "cell_type": "code",
   "execution_count": 80,
   "id": "93674d0e",
   "metadata": {},
   "outputs": [
    {
     "data": {
      "text/plain": [
       "['Lastgangtool-Mappe.xlsx', '~$Lastgangtool-Mappe.xlsx']"
      ]
     },
     "execution_count": 80,
     "metadata": {},
     "output_type": "execute_result"
    }
   ],
   "source": [
    "#list of all files that end with .xlsx\n",
    "file_list = glob.glob(\"*.xlsx\")\n",
    "file_list"
   ]
  },
  {
   "cell_type": "code",
   "execution_count": 81,
   "id": "48bfce35",
   "metadata": {},
   "outputs": [],
   "source": [
    "Excel_name = file_list[0] #gets the first excel in folder\n",
    "Sheet_name = 'Eingabe'"
   ]
  },
  {
   "cell_type": "code",
   "execution_count": 82,
   "id": "3995a051",
   "metadata": {},
   "outputs": [],
   "source": [
    "wk = xw.Book(Excel_name) # Öffnen der Excel-Datei"
   ]
  },
  {
   "cell_type": "code",
   "execution_count": 83,
   "id": "c62fa9bf",
   "metadata": {},
   "outputs": [],
   "source": [
    "sheet = wk.sheets(Sheet_name) #Öffnen der Excel-Arbeitsmappe "
   ]
  },
  {
   "cell_type": "code",
   "execution_count": 84,
   "id": "1d36ffb4",
   "metadata": {},
   "outputs": [],
   "source": [
    "df_data = sheet['A2'].expand().options(pd.DataFrame, chunksize=10_000).value #Einlesen des Inhalts-> Speichert alle Werte(.values) ab 'A2' als DataFrame, Chunksize = Matrixgröße\n",
    "\n",
    "###df_data"
   ]
  },
  {
   "cell_type": "code",
   "execution_count": 85,
   "id": "8e8f11ca",
   "metadata": {},
   "outputs": [],
   "source": [
    "Load_profile = df_data.iloc[: , [0]] # SLicing der 1. Spalte!\n",
    "\n",
    "###Load_profile"
   ]
  },
  {
   "cell_type": "markdown",
   "id": "fd9ff37b",
   "metadata": {},
   "source": [
    "# 3. Lösung des Mittenachtsproblems"
   ]
  },
  {
   "cell_type": "markdown",
   "id": "cb576286",
   "metadata": {},
   "source": [
    "Problem: Python gibt die letzte Stunde des Tages als 00:00 an - Datensätze mit 24:00 müssen angepasst werden"
   ]
  },
  {
   "cell_type": "markdown",
   "id": "9a3d98f2",
   "metadata": {},
   "source": [
    "### Slicing der Spalte mit fehlerhaftem Datensatz (Zeitstempel)"
   ]
  },
  {
   "cell_type": "code",
   "execution_count": 86,
   "id": "cb256c27",
   "metadata": {},
   "outputs": [],
   "source": [
    "df_timestamp  = pd.DataFrame(Load_profile.index) #Index (Zeitstempel) als Dataframe\n",
    "\n",
    "###df_timestamp"
   ]
  },
  {
   "cell_type": "markdown",
   "id": "3d438c05",
   "metadata": {},
   "source": [
    "## 3.1 Anpassung des Formats "
   ]
  },
  {
   "cell_type": "markdown",
   "id": "82666e97",
   "metadata": {},
   "source": [
    "### Abfrage und umwandlung in Zielforamtin Zielformat: [#Y-#m-#d #H:#M ]"
   ]
  },
  {
   "cell_type": "markdown",
   "id": "4115fd9b",
   "metadata": {},
   "source": [
    "### Einladen des Formates"
   ]
  },
  {
   "cell_type": "code",
   "execution_count": 87,
   "id": "1b7c7b4d",
   "metadata": {},
   "outputs": [],
   "source": [
    "#tformat = sheet.range('A3').options('dict').value"
   ]
  },
  {
   "cell_type": "code",
   "execution_count": 88,
   "id": "6b5546a0",
   "metadata": {},
   "outputs": [
    {
     "data": {
      "text/plain": [
       "('#d-#m-#y #H:#M', '2020-01-01 00:15:00')"
      ]
     },
     "execution_count": 88,
     "metadata": {},
     "output_type": "execute_result"
    }
   ],
   "source": [
    "dformat = sheet.range('F3').value\n",
    "tformat = sheet.range('A3').value\n",
    "tformat = str(tformat)\n",
    "dformat,tformat"
   ]
  },
  {
   "cell_type": "code",
   "execution_count": 89,
   "id": "eac84e4d",
   "metadata": {},
   "outputs": [
    {
     "data": {
      "text/plain": [
       "True"
      ]
     },
     "execution_count": 89,
     "metadata": {},
     "output_type": "execute_result"
    }
   ],
   "source": [
    "type (sheet.range('A3').value) == datetime.datetime # Hinweis XLWings Erkennt das Excel Datumsformt. "
   ]
  },
  {
   "cell_type": "markdown",
   "id": "63b06782",
   "metadata": {},
   "source": [
    "### Abfrage des Datenformates um Trennzeichen zu definieren "
   ]
  },
  {
   "cell_type": "code",
   "execution_count": 90,
   "id": "74433cae",
   "metadata": {},
   "outputs": [
    {
     "data": {
      "text/plain": [
       "(' ', '-', ':')"
      ]
     },
     "execution_count": 90,
     "metadata": {},
     "output_type": "execute_result"
    }
   ],
   "source": [
    "# 1. If abfrage ob 'datetime.datetime' Format erkannt wurde oder nicht\n",
    "if type (sheet.range('A3').value) == datetime.datetime or dformat == '#y-#m-#d #H:#M' : #2020-09-02T00:37\n",
    "    dformat = '#y-#m-#d #H:#M'\n",
    "    Seperator = tformat[10]\n",
    "    Date_sep = tformat[4]\n",
    "    Time_sep = tformat[13]\n",
    "    \n",
    "elif dformat == '#d-#m-#y #H:#M' : #01.01.2021 00:15\n",
    "    Seperator = tformat[10]\n",
    "    Date_sep = tformat[2]\n",
    "    Time_sep = tformat[13]\n",
    "    \n",
    "elif dformat == '#H:#M #y-#m-#d': #00:00 2020-03-01\n",
    "    Seperator = tformat[5]\n",
    "    Date_sep = tformat[10]\n",
    "    Time_sep = tformat[2]\n",
    " \n",
    "elif dformat == '#H:#M #d-#m-#y': #00:00K01.01.2021\n",
    "    Seperator = tformat[5]\n",
    "    Date_sep = tformat[8]\n",
    "    Time_sep = tformat[2]    \n",
    "\n",
    "\n",
    "Seperator,Date_sep,Time_sep"
   ]
  },
  {
   "cell_type": "code",
   "execution_count": 91,
   "id": "cae479eb",
   "metadata": {},
   "outputs": [
    {
     "data": {
      "text/plain": [
       "'#y-#m-#d #H:#M'"
      ]
     },
     "execution_count": 91,
     "metadata": {},
     "output_type": "execute_result"
    }
   ],
   "source": [
    "dformat"
   ]
  },
  {
   "cell_type": "raw",
   "id": "10852a74",
   "metadata": {},
   "source": [
    "if dformat == '#d-#m-#y #H:#M' : #01.01.2021 00:15\n",
    "    Seperator = tformat[10]\n",
    "    Date_sep = tformat[2]\n",
    "    Time_sep = tformat[13]\n",
    "    \n",
    "elif dformat == '#y-#m-#d #H:#M': #2020-09-02T00:37\n",
    "    Seperator = tformat[10]\n",
    "    Date_sep = tformat[4]\n",
    "    Time_sep = tformat[13]   \n",
    "\n",
    "elif dformat == '#H:#M #y-#m-#d': #00:00 2020-03-01\n",
    "    Seperator = tformat[5]\n",
    "    Date_sep = tformat[10]\n",
    "    Time_sep = tformat[2]\n",
    " \n",
    "elif dformat == '#H:#M #d-#m-#y': #00:00K01.01.2021\n",
    "    Seperator = tformat[5]\n",
    "    Date_sep = tformat[8]\n",
    "    Time_sep = tformat[2]    \n",
    "\n",
    "\n",
    "Seperator,Date_sep,Time_sep"
   ]
  },
  {
   "cell_type": "markdown",
   "id": "297baa9d",
   "metadata": {},
   "source": [
    "### Aufteilung der Daten ! Achtung: Trenner in Split richtig Angeben!"
   ]
  },
  {
   "cell_type": "markdown",
   "id": "a85f5189",
   "metadata": {},
   "source": [
    "### Splitten in Datum und Uhrzeit "
   ]
  },
  {
   "cell_type": "code",
   "execution_count": 92,
   "id": "35c438d4",
   "metadata": {},
   "outputs": [],
   "source": [
    "df_timestamp = df_timestamp.astype(str) #Umwandulung in String\n",
    "df_timestamp = df_timestamp.Zeitstempel.str.split(Seperator,expand=True ) # Splitten des Timestamps in Datum und Uhrzeit \n",
    "\n",
    "###df_timestamp"
   ]
  },
  {
   "cell_type": "code",
   "execution_count": 93,
   "id": "ca93994a",
   "metadata": {},
   "outputs": [],
   "source": [
    "if dformat == '#d-#m-#y #H:#M' or dformat == '#y-#m-#d #H:#M'  :\n",
    "    df_timestampDate = df_timestamp[0].str.split(Date_sep,expand=True ) ## Splitten des Datums in Tag,Monat, JAhr \n",
    "    \n",
    "elif dformat == '#H:#M #y-#m-#d' or dformat == '#H:#M #d-#m-#y': \n",
    "    df_timestampDate = df_timestamp[1].str.split(Date_sep,expand=True ) ## Splitten des Datums in Tag,Monat, JAhr\n",
    "    \n",
    "\n",
    "###df_timestampDate"
   ]
  },
  {
   "cell_type": "markdown",
   "id": "95badc88",
   "metadata": {},
   "source": [
    "### Zusammenführung der Daten"
   ]
  },
  {
   "cell_type": "markdown",
   "id": "fec94128",
   "metadata": {},
   "source": [
    "### Abfrage der Reihenfolge und Umsortierung "
   ]
  },
  {
   "cell_type": "code",
   "execution_count": 94,
   "id": "80012391",
   "metadata": {},
   "outputs": [],
   "source": [
    "if dformat == '#d-#m-#y #H:#M' or dformat == '#H:#M #d-#m-#y' : #01.01.2021 00:15 or #00:00K01.01.2021\n",
    "    Neusortierter_timestamp = df_timestampDate[2] + '-' + df_timestampDate[1] + '-' + df_timestampDate[0]  # Zusammenfassung in einer Zelle\n",
    "    df_timestamp[0]=Neusortierter_timestamp # Zusammenfassung des Datums in einer Zelle\n",
    "    \n",
    "elif dformat == '#H:#M #y-#m-#d' or dformat == '#y-#m-#d #H:#M': #00:00K01.01.2021 or #00:00 2020-03-01\n",
    "    Neusortierter_timestamp = df_timestampDate[0] + '-' + df_timestampDate[1] + '-' + df_timestampDate[2]  # Zusammenfassung in einer Zelle\n",
    "    df_timestamp[0]=Neusortierter_timestamp # Zusammenfassung des Datums in einer Zelle\n",
    "    \n",
    "###df_timestamp"
   ]
  },
  {
   "cell_type": "markdown",
   "id": "8d10c2c4",
   "metadata": {},
   "source": [
    "### Zusammenfassung Datum und Uhrzeit "
   ]
  },
  {
   "cell_type": "code",
   "execution_count": 95,
   "id": "8c14d391",
   "metadata": {},
   "outputs": [],
   "source": [
    "if dformat == '#d-#m-#y #H:#M' or dformat == '#y-#m-#d #H:#M'  :\n",
    "    df_timestamp = df_timestamp[0] + ' ' + df_timestamp[1] # Zusammenfassung Datum und Uhrzeit in einer Zelle\n",
    "    \n",
    "elif dformat == '#H:#M #y-#m-#d' or dformat == '#H:#M #d-#m-#y': \n",
    "    df_timestamp = df_timestamp[1] + ' ' + df_timestamp[0] # Zusammenfassung Datum und Uhrzeit in einer Zelle\n",
    "    \n",
    "\n",
    "###df_timestamp"
   ]
  },
  {
   "cell_type": "markdown",
   "id": "0c372f1a",
   "metadata": {},
   "source": [
    "## 3.2 Austausch der 24. Stunde und Umwandlung in datetime24"
   ]
  },
  {
   "cell_type": "code",
   "execution_count": 96,
   "id": "aed24129",
   "metadata": {},
   "outputs": [],
   "source": [
    "df_timestamp = pd.DataFrame (df_timestamp) #Erstellung eines Dataframes      EINGABE EINER SERIES!\n",
    "df_timestamp.columns = ['Zeitstempel'] #Änderung des Namens der Column\n",
    "df_timestamp = df_timestamp.astype(str) # Umwandlung der Daten im Dataframe zu Strings\n",
    "df_timestamp2 = df_timestamp.Zeitstempel.str.split(\" \",expand=True ) # Splitten des Timestamps in Datum und Uhrzeit \n",
    "df_timestamp2.loc[df_timestamp2[1] == \"24:00\", 0] = pd.to_datetime(df_timestamp2[0])+pd.Timedelta('1 day') #Erhöhung der Tage um 1 wenn diese den Studnenwert 24 besitzen\n",
    "df_timestamp2 = df_timestamp2.replace('24:00','00:00')  # Ersetzen der 24. Stunde mit der 00. Stunde!!     RICHTIGES FORMAT??\n",
    "df_timestamp2 = df_timestamp2.astype(str) # Umwandlung in String \n",
    "s_timestamp = df_timestamp2[0].str[:10] + ' ' + df_timestamp2[1] #Zusammenführung der Strings und ignorieren der 00:00:00 bei den um 1 erhöten Tagen \n",
    "s_timestamp = pd.to_datetime(s_timestamp) # Umwandlung des Datentyp von String in datetime64 Und Angabe des eingabe Formates!!!\n",
    "df_timestamp = pd.DataFrame (s_timestamp, columns = ['Zeitstempel']) # Umwandlung in einen DataFrame\n",
    "\n",
    "\n",
    "###df_timestamp"
   ]
  },
  {
   "cell_type": "markdown",
   "id": "199badbc",
   "metadata": {},
   "source": [
    "Erstezen des Splalte im Ausgangs Dataframe "
   ]
  },
  {
   "cell_type": "markdown",
   "id": "b9f9cad3",
   "metadata": {},
   "source": [
    "# 3.3  EingabeIndex mit geändertem Index überschrieben "
   ]
  },
  {
   "cell_type": "code",
   "execution_count": 97,
   "id": "8f355420",
   "metadata": {},
   "outputs": [],
   "source": [
    "Load_profile = Load_profile.reset_index() #Index zurücksetzen-> somit wird dieser als Spalte abgespeichert!"
   ]
  },
  {
   "cell_type": "code",
   "execution_count": 98,
   "id": "ecd5d779",
   "metadata": {},
   "outputs": [],
   "source": [
    "Load_profile['Zeitstempel'] = df_timestamp #Austatsuch des Alten Indexes mit dem neuen"
   ]
  },
  {
   "cell_type": "markdown",
   "id": "7e109641",
   "metadata": {},
   "source": [
    "# 4. Zeitumstellungsproblem"
   ]
  },
  {
   "cell_type": "markdown",
   "id": "a6a26ce0",
   "metadata": {},
   "source": [
    "Bei der Zeitumstellung kann es Vorkommen das Werte doppelt vorliegen oder das diese Fehlen, diese Problem wird hier gelöst"
   ]
  },
  {
   "cell_type": "markdown",
   "id": "9e0553be",
   "metadata": {},
   "source": [
    "### 4.1 Einheiten des Lastgangs einlesen"
   ]
  },
  {
   "cell_type": "code",
   "execution_count": 99,
   "id": "d071b5fb",
   "metadata": {},
   "outputs": [
    {
     "data": {
      "text/plain": [
       "('kWh', 'Viertelstunde', None)"
      ]
     },
     "execution_count": 99,
     "metadata": {},
     "output_type": "execute_result"
    }
   ],
   "source": [
    "Energie_Unit = sheet.range('C3').value\n",
    "Zeit_Unit = sheet.range('D3').value\n",
    "Aggregation_Unit = sheet.range('E3').value\n",
    "\n",
    "Energie_Unit,Zeit_Unit,Aggregation_Unit"
   ]
  },
  {
   "cell_type": "markdown",
   "id": "b946f6d0",
   "metadata": {},
   "source": [
    "Definieren der Einheiten"
   ]
  },
  {
   "cell_type": "markdown",
   "id": "87d4c6d7",
   "metadata": {},
   "source": [
    "## 4.2 Erstellung eines korrekten  Zeitstempels "
   ]
  },
  {
   "cell_type": "markdown",
   "id": "7f972033",
   "metadata": {},
   "source": [
    "### Startzeit definieren "
   ]
  },
  {
   "cell_type": "code",
   "execution_count": 100,
   "id": "11dbdf40",
   "metadata": {},
   "outputs": [
    {
     "data": {
      "text/plain": [
       "Timestamp('2020-01-01 00:15:00')"
      ]
     },
     "execution_count": 100,
     "metadata": {},
     "output_type": "execute_result"
    }
   ],
   "source": [
    "Start_Time = pd.Series.to_string (Load_profile.loc[:0,'Zeitstempel'], index=False)\n",
    "Starting_Time = pd.to_datetime(Start_Time) #Staretzeit für Index definieren als datetime64 \n",
    "Starting_Time"
   ]
  },
  {
   "cell_type": "markdown",
   "id": "c47480b7",
   "metadata": {},
   "source": [
    "### Endzeit definieren"
   ]
  },
  {
   "cell_type": "code",
   "execution_count": 101,
   "id": "75a537c6",
   "metadata": {},
   "outputs": [],
   "source": [
    "Ending_Time = Load_profile.iloc[ -1, 0]\n",
    "\n",
    "###Ending_Time"
   ]
  },
  {
   "cell_type": "markdown",
   "id": "6eb08baa",
   "metadata": {},
   "source": [
    "### Abfrage der Einheit und  Intervalls des Lastgangs"
   ]
  },
  {
   "cell_type": "code",
   "execution_count": 102,
   "id": "2760ec83",
   "metadata": {},
   "outputs": [],
   "source": [
    "if Zeit_Unit == 'Viertelstunde':\n",
    "    Unit = 'm'\n",
    "    Step = 15\n",
    "\n",
    "elif Zeit_Unit == 'Tage':\n",
    "    Unit = 'D'\n",
    "    Step = 1\n",
    "    \n",
    "else: \n",
    "    Unit = 'h'\n",
    "    Step = 1\n",
    "    \n",
    "##Unit, Step"
   ]
  },
  {
   "cell_type": "markdown",
   "id": "4d121e83",
   "metadata": {},
   "source": [
    "### Funktion definieren um die korrekte Zeitreihe zu erstellen "
   ]
  },
  {
   "cell_type": "code",
   "execution_count": 103,
   "id": "cc5d6316",
   "metadata": {},
   "outputs": [],
   "source": [
    "def new_timestamp ( Starting_Time, Ending_Time, Step , Unit ): #Unit can be (D)ay, (M)onth, (Y)ear, (h)ours, (m)inutes, or (s)econds\n",
    "    '''\n",
    "    gibt ein Array mit Stundenwerten im gegebenen Rahmen aus \n",
    "    '''\n",
    "    Index = np.arange( np.datetime64(Starting_Time), np.datetime64(Ending_Time)+np.timedelta64(Step,Unit) , np.timedelta64(Step,Unit) ,dtype='datetime64[s]')\n",
    "\n",
    "    return Index"
   ]
  },
  {
   "cell_type": "code",
   "execution_count": 104,
   "id": "87bf887e",
   "metadata": {},
   "outputs": [
    {
     "data": {
      "text/plain": [
       "(Timestamp('2020-01-01 00:15:00'), Timestamp('2022-05-30 23:45:00'), 15, 'm')"
      ]
     },
     "execution_count": 104,
     "metadata": {},
     "output_type": "execute_result"
    }
   ],
   "source": [
    "Starting_Time, Ending_Time, Step , Unit"
   ]
  },
  {
   "cell_type": "markdown",
   "id": "b8f86540",
   "metadata": {},
   "source": [
    "### Ausführung der Funktion -> korrekte Zeitreihe"
   ]
  },
  {
   "cell_type": "code",
   "execution_count": 105,
   "id": "529e0aef",
   "metadata": {},
   "outputs": [],
   "source": [
    "korrect_timestamp = new_timestamp ( Starting_Time, Ending_Time, Step , Unit )\n",
    "\n",
    "##korrect_timestamp"
   ]
  },
  {
   "cell_type": "code",
   "execution_count": 106,
   "id": "311c3392",
   "metadata": {},
   "outputs": [
    {
     "data": {
      "text/plain": [
       "84575"
      ]
     },
     "execution_count": 106,
     "metadata": {},
     "output_type": "execute_result"
    }
   ],
   "source": [
    "len(korrect_timestamp)"
   ]
  },
  {
   "cell_type": "markdown",
   "id": "29da904e",
   "metadata": {},
   "source": [
    "### Umwandlung in Dataframe"
   ]
  },
  {
   "cell_type": "code",
   "execution_count": 107,
   "id": "f1d6c57d",
   "metadata": {},
   "outputs": [],
   "source": [
    "korrect_timestamp = pd.DataFrame(korrect_timestamp,columns = ['Zeitstempel'])\n",
    "korrect_timestamp = korrect_timestamp.set_index('Zeitstempel')\n",
    "\n",
    "###korrect_timestamp"
   ]
  },
  {
   "cell_type": "markdown",
   "id": "ea661126",
   "metadata": {},
   "source": [
    "## 4.3 Zuordnung der gemessenen Daten zum korrekten Zeitstempel"
   ]
  },
  {
   "cell_type": "markdown",
   "id": "f4f405e4",
   "metadata": {},
   "source": [
    "### Zuordnung der Lastgangdaten zum korrekten Zeitstempel"
   ]
  },
  {
   "cell_type": "code",
   "execution_count": 108,
   "id": "543b38d1",
   "metadata": {},
   "outputs": [],
   "source": [
    "Load_profile =Load_profile.set_index('Zeitstempel') #Neuer ZEitstempel als Index"
   ]
  },
  {
   "cell_type": "code",
   "execution_count": 109,
   "id": "3fd5cf89",
   "metadata": {},
   "outputs": [],
   "source": [
    "Load_profile = korrect_timestamp.join(Load_profile)\n",
    "\n",
    "#Load_profile"
   ]
  },
  {
   "cell_type": "markdown",
   "id": "c6f38688",
   "metadata": {},
   "source": [
    "## 4.4 Datum löschen welches dopplet vorkommen (Zeitumstellung)"
   ]
  },
  {
   "cell_type": "code",
   "execution_count": 110,
   "id": "8c6a2629",
   "metadata": {},
   "outputs": [],
   "source": [
    "#convert index to list\n",
    "index_list = list(Load_profile.index.values)\n",
    "\n",
    "##index_list"
   ]
  },
  {
   "cell_type": "code",
   "execution_count": 111,
   "id": "a7e66d8f",
   "metadata": {},
   "outputs": [],
   "source": [
    "index_Series= pd.Series(index_list) #Als Series umwandeln\n",
    "\n",
    "index_Series = index_Series.astype(str) #Umwandlung als String\n",
    "\n",
    "##index_Series.rename ( 'DoubleIndex')"
   ]
  },
  {
   "cell_type": "markdown",
   "id": "d26233ef",
   "metadata": {},
   "source": [
    "#### Kopie des Indexes als neue Spalte"
   ]
  },
  {
   "cell_type": "code",
   "execution_count": 112,
   "id": "e324d544",
   "metadata": {},
   "outputs": [],
   "source": [
    "Load_profile = Load_profile.assign(DoubleIndex = index_list)\n",
    "\n",
    "##Load_profile"
   ]
  },
  {
   "cell_type": "markdown",
   "id": "a408a1f7",
   "metadata": {},
   "source": [
    "###  Löschen von Zeilen in denen 'DoubleIndex' mehrfach vorkommt "
   ]
  },
  {
   "cell_type": "code",
   "execution_count": 113,
   "id": "ad413e34",
   "metadata": {},
   "outputs": [],
   "source": [
    "Load_profile = Load_profile.drop_duplicates(subset='DoubleIndex', keep= 'first')"
   ]
  },
  {
   "cell_type": "markdown",
   "id": "e2e7a8de",
   "metadata": {},
   "source": [
    "Entfernen der Spalte DoubleIndexes"
   ]
  },
  {
   "cell_type": "code",
   "execution_count": 114,
   "id": "03fe6033",
   "metadata": {},
   "outputs": [],
   "source": [
    "Load_profile = pd.DataFrame(Load_profile['Lastgang'])\n",
    "\n",
    "##Load_profile"
   ]
  },
  {
   "cell_type": "markdown",
   "id": "12fdd401",
   "metadata": {},
   "source": [
    "## 4.5 lineare Interpolieren von Werten Die nicht vorhanden sind "
   ]
  },
  {
   "cell_type": "code",
   "execution_count": 115,
   "id": "2ce53974",
   "metadata": {
    "scrolled": false
   },
   "outputs": [],
   "source": [
    "Load_profile = Load_profile.interpolate(method='linear', limit_direction='forward', axis=0)\n",
    "Load_profile_ready = Load_profile\n",
    "##Load_profile"
   ]
  },
  {
   "cell_type": "markdown",
   "id": "aa7a3f93",
   "metadata": {},
   "source": [
    "# Lastgang ist nun Aufbereitet !"
   ]
  },
  {
   "cell_type": "markdown",
   "id": "dc560878",
   "metadata": {},
   "source": [
    "#"
   ]
  },
  {
   "cell_type": "markdown",
   "id": "758c728e",
   "metadata": {},
   "source": [
    "## 5. Umrechnen des Lastgangs"
   ]
  },
  {
   "cell_type": "markdown",
   "id": "074f4b6c",
   "metadata": {},
   "source": [
    "## 5.2 Umrechnung der Einheiten "
   ]
  },
  {
   "cell_type": "markdown",
   "id": "53035e24",
   "metadata": {},
   "source": [
    "### Definieren von Sets mit Umrechnungsfaktoren "
   ]
  },
  {
   "cell_type": "code",
   "execution_count": 116,
   "id": "6579e182",
   "metadata": {},
   "outputs": [],
   "source": [
    "## Umrechnungs Faktoren\n",
    "convert_hour = {'kW': 1,\n",
    "                'kWh': 1,\n",
    "                'W': 1000,\n",
    "                'Wh':1000,\n",
    "                'm3/h': 1/9.77,\n",
    "                'm3': 1/9.77} #dict damit dieses Erweitert werden kann\n",
    "\n",
    "convert_quater_hour = {'kW': 4,\n",
    "                       'kWh': 1,\n",
    "                       'W': 4000,\n",
    "                       'Wh': 1000,\n",
    "                       'm3/h': 4/9.77,\n",
    "                       'm3': 1/9.77}"
   ]
  },
  {
   "cell_type": "markdown",
   "id": "77582b62",
   "metadata": {},
   "source": [
    "## Funktion definieren um den Lastgang in kW pro Stunde umzurechnen -> kWh !!!"
   ]
  },
  {
   "cell_type": "code",
   "execution_count": 117,
   "id": "f8a2c5f2",
   "metadata": {},
   "outputs": [],
   "source": [
    "def convert_units (Load, Unit, Timestemp, convert_hour, convert_quater_hour):\n",
    "    '''\n",
    "    Umrechnung des Lastgangs in kW pro Stunde mit Umrechnungsfaktoren aus den dicts convert_hour, convert_quater_hour\n",
    "    '''\n",
    "    if Timestemp == 'Stunden':      #Abfrage Zeitstempel\n",
    "        x = Load / convert_hour[Unit] #Lastgang durch Faktor\n",
    "        \n",
    "    else:\n",
    "        x = Load / convert_quater_hour[Unit]\n",
    "\n",
    "    return x.round(decimals=10) #Runden einer Series auf 2 Nachkommastellen und Ausgabe "
   ]
  },
  {
   "cell_type": "markdown",
   "id": "482fd8a8",
   "metadata": {},
   "source": [
    "### Anwenden der Funktion "
   ]
  },
  {
   "cell_type": "code",
   "execution_count": 118,
   "id": "bd543ebd",
   "metadata": {},
   "outputs": [],
   "source": [
    "Load_profile = convert_units (Load_profile, Energie_Unit, Zeit_Unit, convert_hour, convert_quater_hour)\n",
    "\n",
    "##Load_profile"
   ]
  },
  {
   "cell_type": "code",
   "execution_count": 119,
   "id": "ff6969a0",
   "metadata": {},
   "outputs": [
    {
     "data": {
      "text/plain": [
       "Lastgang    5335230.074\n",
       "dtype: float64"
      ]
     },
     "execution_count": 119,
     "metadata": {},
     "output_type": "execute_result"
    }
   ],
   "source": [
    "Load_profile.sum()"
   ]
  },
  {
   "cell_type": "markdown",
   "id": "90aa7582",
   "metadata": {},
   "source": [
    "# 5.1 Aggreagtion der Zeit "
   ]
  },
  {
   "cell_type": "markdown",
   "id": "f545a494",
   "metadata": {},
   "source": [
    "## Berechnung für Tage und Monate Woche "
   ]
  },
  {
   "cell_type": "code",
   "execution_count": 120,
   "id": "f2d72b2b",
   "metadata": {},
   "outputs": [
    {
     "data": {
      "text/html": [
       "<div>\n",
       "<style scoped>\n",
       "    .dataframe tbody tr th:only-of-type {\n",
       "        vertical-align: middle;\n",
       "    }\n",
       "\n",
       "    .dataframe tbody tr th {\n",
       "        vertical-align: top;\n",
       "    }\n",
       "\n",
       "    .dataframe thead th {\n",
       "        text-align: right;\n",
       "    }\n",
       "</style>\n",
       "<table border=\"1\" class=\"dataframe\">\n",
       "  <thead>\n",
       "    <tr style=\"text-align: right;\">\n",
       "      <th></th>\n",
       "      <th>Lastgang</th>\n",
       "    </tr>\n",
       "    <tr>\n",
       "      <th>Zeitstempel</th>\n",
       "      <th></th>\n",
       "    </tr>\n",
       "  </thead>\n",
       "  <tbody>\n",
       "    <tr>\n",
       "      <th>2020-01-01 00:15:00</th>\n",
       "      <td>22.290</td>\n",
       "    </tr>\n",
       "    <tr>\n",
       "      <th>2020-01-01 00:30:00</th>\n",
       "      <td>23.040</td>\n",
       "    </tr>\n",
       "    <tr>\n",
       "      <th>2020-01-01 00:45:00</th>\n",
       "      <td>23.250</td>\n",
       "    </tr>\n",
       "    <tr>\n",
       "      <th>2020-01-01 01:00:00</th>\n",
       "      <td>22.950</td>\n",
       "    </tr>\n",
       "    <tr>\n",
       "      <th>2020-01-01 01:15:00</th>\n",
       "      <td>23.410</td>\n",
       "    </tr>\n",
       "    <tr>\n",
       "      <th>...</th>\n",
       "      <td>...</td>\n",
       "    </tr>\n",
       "    <tr>\n",
       "      <th>2022-05-30 22:45:00</th>\n",
       "      <td>84.680</td>\n",
       "    </tr>\n",
       "    <tr>\n",
       "      <th>2022-05-30 23:00:00</th>\n",
       "      <td>78.193</td>\n",
       "    </tr>\n",
       "    <tr>\n",
       "      <th>2022-05-30 23:15:00</th>\n",
       "      <td>79.744</td>\n",
       "    </tr>\n",
       "    <tr>\n",
       "      <th>2022-05-30 23:30:00</th>\n",
       "      <td>82.181</td>\n",
       "    </tr>\n",
       "    <tr>\n",
       "      <th>2022-05-30 23:45:00</th>\n",
       "      <td>76.102</td>\n",
       "    </tr>\n",
       "  </tbody>\n",
       "</table>\n",
       "<p>84575 rows × 1 columns</p>\n",
       "</div>"
      ],
      "text/plain": [
       "                     Lastgang\n",
       "Zeitstempel                  \n",
       "2020-01-01 00:15:00    22.290\n",
       "2020-01-01 00:30:00    23.040\n",
       "2020-01-01 00:45:00    23.250\n",
       "2020-01-01 01:00:00    22.950\n",
       "2020-01-01 01:15:00    23.410\n",
       "...                       ...\n",
       "2022-05-30 22:45:00    84.680\n",
       "2022-05-30 23:00:00    78.193\n",
       "2022-05-30 23:15:00    79.744\n",
       "2022-05-30 23:30:00    82.181\n",
       "2022-05-30 23:45:00    76.102\n",
       "\n",
       "[84575 rows x 1 columns]"
      ]
     },
     "execution_count": 120,
     "metadata": {},
     "output_type": "execute_result"
    }
   ],
   "source": [
    "Load = Load_profile\n",
    "Load"
   ]
  },
  {
   "cell_type": "raw",
   "id": "5d6e402e",
   "metadata": {},
   "source": [
    "sum (Load.loc[(Load.index.year == 2021) & (Load.index.month == 1) & (Load.index.day == 1) & (Load.index.hour == 0)])"
   ]
  },
  {
   "cell_type": "raw",
   "id": "4137e198",
   "metadata": {},
   "source": [
    "years = Load.index.year.drop_duplicates().values\n",
    "\n",
    "years"
   ]
  },
  {
   "cell_type": "raw",
   "id": "ddf27a01",
   "metadata": {},
   "source": [
    "months = Load.index.month.drop_duplicates().values\n",
    "\n",
    "months"
   ]
  },
  {
   "cell_type": "raw",
   "id": "60ef6d3f",
   "metadata": {},
   "source": [
    "days = Load.index.day.drop_duplicates().values\n",
    "\n",
    "days"
   ]
  },
  {
   "cell_type": "raw",
   "id": "ba76d70d",
   "metadata": {},
   "source": [
    "hours = Load.index.hour.drop_duplicates().values\n",
    "\n",
    "hours"
   ]
  },
  {
   "cell_type": "raw",
   "id": "56142e51",
   "metadata": {},
   "source": [
    "minutes = Load.index.minute.drop_duplicates().values\n",
    "\n",
    "minutes"
   ]
  },
  {
   "cell_type": "markdown",
   "id": "fe466b0d",
   "metadata": {},
   "source": [
    "# Aggegationen "
   ]
  },
  {
   "cell_type": "markdown",
   "id": "60b0ef43",
   "metadata": {},
   "source": [
    "# Stundenlastgang"
   ]
  },
  {
   "cell_type": "code",
   "execution_count": 121,
   "id": "a254ae72",
   "metadata": {},
   "outputs": [],
   "source": [
    "#Summiert alle Werte an denen Jahr, Monat, Tag und Stunde gleich ist :) \n",
    "Hour_Load = Load.groupby(by=[Load.index.map(lambda x : (x.year, x.month, x.day, x.hour))]).agg({'Lastgang': 'sum'})\n",
    "\n",
    "###Hour_Load"
   ]
  },
  {
   "cell_type": "code",
   "execution_count": 122,
   "id": "ac23703b",
   "metadata": {},
   "outputs": [],
   "source": [
    "#Change index to datetime format\n",
    "a = pd.DataFrame(Hour_Load.index.values.tolist(), columns=['year','month','day','hour'])\n",
    "Hour_Load.index = pd.to_datetime(a)\n",
    "\n",
    "###Hour_Load"
   ]
  },
  {
   "cell_type": "raw",
   "id": "102e55bf",
   "metadata": {},
   "source": [
    "### Anpassung des Zeitstempels \n",
    "Hour_Load = Hour_Load.reset_index(drop = True) #Index entfernen \n",
    "Hour_Load['Zeitstempel'] = pd.Series (new_timestamp ( Starting_Time, Ending_Time, 1 , 'h' ) ) # neuen Zeitstempel hinzufügen \n",
    "\n",
    "Hour_Load "
   ]
  },
  {
   "cell_type": "markdown",
   "id": "d6b22647",
   "metadata": {},
   "source": [
    "# Tageslastgang"
   ]
  },
  {
   "cell_type": "code",
   "execution_count": 123,
   "id": "d2870641",
   "metadata": {},
   "outputs": [],
   "source": [
    "Day_Load = Load.groupby(Load.index.date).agg({'Lastgang': 'sum'})\n",
    "\n",
    "###Day_Load"
   ]
  },
  {
   "cell_type": "code",
   "execution_count": 124,
   "id": "c8686b47",
   "metadata": {},
   "outputs": [],
   "source": [
    "Day_Load = Day_Load.reset_index()"
   ]
  },
  {
   "cell_type": "markdown",
   "id": "0224dd62",
   "metadata": {},
   "source": [
    "# Wochenlastgang"
   ]
  },
  {
   "cell_type": "code",
   "execution_count": 125,
   "id": "7b1b3741",
   "metadata": {
    "scrolled": true
   },
   "outputs": [],
   "source": [
    "Week_Load = Load.groupby(by=[Load.index.map(lambda x : (x.year, x.week))]).agg({'Lastgang': 'sum'})\n",
    "\n",
    "###Week_Load"
   ]
  },
  {
   "cell_type": "code",
   "execution_count": 126,
   "id": "bfb20722",
   "metadata": {},
   "outputs": [],
   "source": [
    "Week_Load = Week_Load.reset_index(drop = True) #Index entfernen \n",
    "Week_Load['Zeitstempel'] = pd.Series (new_timestamp ( Starting_Time, Ending_Time, 7 , 'D' )) # neuen Zeitstempel hinzufügen\n",
    "\n",
    "###Week_Load "
   ]
  },
  {
   "cell_type": "markdown",
   "id": "a05bfa52",
   "metadata": {},
   "source": [
    "# Monatslastgang "
   ]
  },
  {
   "cell_type": "code",
   "execution_count": 127,
   "id": "bdc043e4",
   "metadata": {},
   "outputs": [],
   "source": [
    "Month_Load = Load.groupby(by=[Load.index.map(lambda x : (x.year, x.month))]).agg({'Lastgang': 'sum'})\n",
    "Month_Load = Month_Load.reset_index(drop= True)\n",
    "Month_Load['Zeitstempel'] = pd.Series (np.arange(Starting_Time, ( np.datetime64(Ending_Time,'M')+np.timedelta64(1,'M') ),dtype='datetime64[M]'))\n",
    "###Month_Load"
   ]
  },
  {
   "cell_type": "markdown",
   "id": "808be74a",
   "metadata": {},
   "source": [
    "##### Test ob die Summen gleich bleiben "
   ]
  },
  {
   "cell_type": "code",
   "execution_count": 128,
   "id": "4d7690d7",
   "metadata": {},
   "outputs": [
    {
     "data": {
      "text/plain": [
       "False"
      ]
     },
     "execution_count": 128,
     "metadata": {},
     "output_type": "execute_result"
    }
   ],
   "source": [
    "Hour_Load['Lastgang'].sum()== Day_Load['Lastgang'].sum() == Month_Load['Lastgang'].sum() == round(Week_Load['Lastgang'].sum(),1)"
   ]
  },
  {
   "cell_type": "code",
   "execution_count": 129,
   "id": "debb89fc",
   "metadata": {},
   "outputs": [
    {
     "data": {
      "text/plain": [
       "5335230.074000001"
      ]
     },
     "execution_count": 129,
     "metadata": {},
     "output_type": "execute_result"
    }
   ],
   "source": [
    "Hour_Load['Lastgang'].sum()"
   ]
  },
  {
   "cell_type": "code",
   "execution_count": 130,
   "id": "53a21cbc",
   "metadata": {},
   "outputs": [
    {
     "data": {
      "text/plain": [
       "5335230.074"
      ]
     },
     "execution_count": 130,
     "metadata": {},
     "output_type": "execute_result"
    }
   ],
   "source": [
    "Day_Load['Lastgang'].sum()"
   ]
  },
  {
   "cell_type": "code",
   "execution_count": 131,
   "id": "f1ccf0a9",
   "metadata": {},
   "outputs": [
    {
     "data": {
      "text/plain": [
       "5335230.073999999"
      ]
     },
     "execution_count": 131,
     "metadata": {},
     "output_type": "execute_result"
    }
   ],
   "source": [
    "Month_Load['Lastgang'].sum()"
   ]
  },
  {
   "cell_type": "code",
   "execution_count": 132,
   "id": "4f9a26f2",
   "metadata": {},
   "outputs": [
    {
     "data": {
      "text/plain": [
       "5335230.074"
      ]
     },
     "execution_count": 132,
     "metadata": {},
     "output_type": "execute_result"
    }
   ],
   "source": [
    "Week_Load['Lastgang'].sum()"
   ]
  },
  {
   "cell_type": "markdown",
   "id": "5db439cc",
   "metadata": {},
   "source": [
    "# 6. Darstellung erstellen "
   ]
  },
  {
   "cell_type": "markdown",
   "id": "4786480b",
   "metadata": {},
   "source": [
    "# !!!Aufgabe:Flächendiagramm mit Grund und Spitzenlast "
   ]
  },
  {
   "cell_type": "code",
   "execution_count": 133,
   "id": "683e5e6f",
   "metadata": {},
   "outputs": [],
   "source": [
    "#Load_profile"
   ]
  },
  {
   "cell_type": "markdown",
   "id": "66e7eff4",
   "metadata": {},
   "source": [
    "### Erstellen einer Series mit dem Zeitstempel"
   ]
  },
  {
   "cell_type": "code",
   "execution_count": 134,
   "id": "817d6e46",
   "metadata": {
    "scrolled": true
   },
   "outputs": [],
   "source": [
    "index_list = list(Load_profile.index.values)\n",
    "index_Series= pd.Series(index_list) #Als Series umwandeln\n",
    "index_Series = index_Series.astype(str) #Umwandlung als String\n",
    "\n",
    "#index_Series"
   ]
  },
  {
   "cell_type": "markdown",
   "id": "ef2a6129",
   "metadata": {},
   "source": [
    " ### Erstellt eine Series mit dem Lastgang"
   ]
  },
  {
   "cell_type": "code",
   "execution_count": 135,
   "id": "7f006c7b",
   "metadata": {
    "scrolled": false
   },
   "outputs": [],
   "source": [
    "Load = Load_profile.loc[:,'Lastgang'] \n",
    "\n",
    "#Load"
   ]
  },
  {
   "cell_type": "code",
   "execution_count": 136,
   "id": "a051f906",
   "metadata": {},
   "outputs": [],
   "source": [
    "size = np.arange(len (Load))"
   ]
  },
  {
   "cell_type": "code",
   "execution_count": 137,
   "id": "0cdf0106",
   "metadata": {},
   "outputs": [],
   "source": [
    "#size"
   ]
  },
  {
   "cell_type": "markdown",
   "id": "35708509",
   "metadata": {},
   "source": [
    "### Grundlast"
   ]
  },
  {
   "cell_type": "code",
   "execution_count": 138,
   "id": "d1b3de4e",
   "metadata": {},
   "outputs": [
    {
     "data": {
      "text/plain": [
       "0.0"
      ]
     },
     "execution_count": 138,
     "metadata": {},
     "output_type": "execute_result"
    }
   ],
   "source": [
    "Load_profile.min()[0]"
   ]
  },
  {
   "cell_type": "code",
   "execution_count": 139,
   "id": "6ad061c2",
   "metadata": {},
   "outputs": [],
   "source": [
    "df = sheet.range('F6').value = Load_profile.min()[0]\n",
    "df = sheet.range('F5').value = 'Grundlast'"
   ]
  },
  {
   "cell_type": "markdown",
   "id": "f3016556",
   "metadata": {},
   "source": [
    "### Spitzenlast"
   ]
  },
  {
   "cell_type": "code",
   "execution_count": 140,
   "id": "86296698",
   "metadata": {},
   "outputs": [],
   "source": [
    "df = sheet.range('G6').value = Load_profile.max()[0]\n",
    "df = sheet.range('G5').value = 'Spitzenlast'"
   ]
  },
  {
   "cell_type": "markdown",
   "id": "8c61a5cd",
   "metadata": {},
   "source": [
    "### Grund- und Spitzenlast als Splate erstellen "
   ]
  },
  {
   "cell_type": "code",
   "execution_count": 141,
   "id": "50d4b13a",
   "metadata": {},
   "outputs": [],
   "source": [
    "Load_profile['Grundlast'] = np.full((len(Load_profile)),Load_profile.min()[0]) #Erstellte eine Spalte die nur die Grundlast enthhält\n",
    "\n",
    "Load_profile['Spitzenlast'] = np.full((len(Load_profile)),Load_profile.max()[0]) #Erstellte eine Spalte die nur die Spitzenlast enthält\n",
    "\n"
   ]
  },
  {
   "cell_type": "markdown",
   "id": "01069357",
   "metadata": {},
   "source": [
    "### Lineplot erstellen mit Ausgangslastgang"
   ]
  },
  {
   "cell_type": "code",
   "execution_count": 142,
   "id": "e8ebc4a2",
   "metadata": {
    "scrolled": true
   },
   "outputs": [
    {
     "data": {
      "text/plain": [
       "<Picture 'LOAD' in <Sheet [Lastgangtool-Mappe.xlsx]Eingabe>>"
      ]
     },
     "execution_count": 142,
     "metadata": {},
     "output_type": "execute_result"
    },
    {
     "data": {
      "image/png": "[encoded data removed]",
      "text/plain": [
       "<Figure size 432x288 with 1 Axes>"
      ]
     },
     "metadata": {},
     "output_type": "display_data"
    }
   ],
   "source": [
    "sns.set_theme(style=\"whitegrid\")\n",
    "sns.despine(left=True)\n",
    "plt.title('Lastgang', fontsize = 16) #Titel definieren \n",
    "\n",
    "fig = plt.figure(figsize=(14,8))\n",
    "plot = sns.lineplot(data=Load_profile['Lastgang'], palette=\"tab10\", linewidth=0.8 ,label=('Lastgang')) #Plot erstellen \n",
    "plot = sns.lineplot(data=Load_profile['Grundlast'], palette=\"tab10\", linewidth=2, label=('Grundlast') ) #Plot erstellen \n",
    "plot = sns.lineplot(data=Load_profile['Spitzenlast'], palette=\"tab10\", linewidth=2, label=('Spitzenlast')) #Plot erstellen \n",
    "\n",
    "plot.legend( fontsize = 24)\n",
    "plot.set_xlabel(\"Zeit\", fontsize = 16) #Beschreibung X-Achse & Schriftgröße\n",
    "plot.set_ylabel(\"[kWh]\", fontsize = 16) #Beschreibung Y-Achse & Schriftgröße\n",
    "#plot = sns.relplot(x='Zeitstempel', y=\"Lastgang\", kind=\"line\", data=Load_profile, height=20, aspect=1.8)\n",
    "\n",
    "sheet.pictures.add(fig, name='LOAD', update=True, left=sheet.range('D10').left, top=sheet.range('D10').top) #Speichern in Excel\n",
    "\n",
    "###g.figure.autofmt_xdate() #Automatisches Labeln der x Achse "
   ]
  },
  {
   "cell_type": "code",
   "execution_count": 143,
   "id": "ebcf578d",
   "metadata": {},
   "outputs": [
    {
     "data": {
      "text/html": [
       "<div>\n",
       "<style scoped>\n",
       "    .dataframe tbody tr th:only-of-type {\n",
       "        vertical-align: middle;\n",
       "    }\n",
       "\n",
       "    .dataframe tbody tr th {\n",
       "        vertical-align: top;\n",
       "    }\n",
       "\n",
       "    .dataframe thead th {\n",
       "        text-align: right;\n",
       "    }\n",
       "</style>\n",
       "<table border=\"1\" class=\"dataframe\">\n",
       "  <thead>\n",
       "    <tr style=\"text-align: right;\">\n",
       "      <th></th>\n",
       "      <th>Lastgang</th>\n",
       "    </tr>\n",
       "  </thead>\n",
       "  <tbody>\n",
       "    <tr>\n",
       "      <th>2020-01-01 00:00:00</th>\n",
       "      <td>68.580</td>\n",
       "    </tr>\n",
       "    <tr>\n",
       "      <th>2020-01-01 01:00:00</th>\n",
       "      <td>92.180</td>\n",
       "    </tr>\n",
       "    <tr>\n",
       "      <th>2020-01-01 02:00:00</th>\n",
       "      <td>94.000</td>\n",
       "    </tr>\n",
       "    <tr>\n",
       "      <th>2020-01-01 03:00:00</th>\n",
       "      <td>96.830</td>\n",
       "    </tr>\n",
       "    <tr>\n",
       "      <th>2020-01-01 04:00:00</th>\n",
       "      <td>94.920</td>\n",
       "    </tr>\n",
       "    <tr>\n",
       "      <th>...</th>\n",
       "      <td>...</td>\n",
       "    </tr>\n",
       "    <tr>\n",
       "      <th>2022-05-30 19:00:00</th>\n",
       "      <td>324.727</td>\n",
       "    </tr>\n",
       "    <tr>\n",
       "      <th>2022-05-30 20:00:00</th>\n",
       "      <td>326.391</td>\n",
       "    </tr>\n",
       "    <tr>\n",
       "      <th>2022-05-30 21:00:00</th>\n",
       "      <td>329.216</td>\n",
       "    </tr>\n",
       "    <tr>\n",
       "      <th>2022-05-30 22:00:00</th>\n",
       "      <td>333.479</td>\n",
       "    </tr>\n",
       "    <tr>\n",
       "      <th>2022-05-30 23:00:00</th>\n",
       "      <td>316.220</td>\n",
       "    </tr>\n",
       "  </tbody>\n",
       "</table>\n",
       "<p>21144 rows × 1 columns</p>\n",
       "</div>"
      ],
      "text/plain": [
       "                     Lastgang\n",
       "2020-01-01 00:00:00    68.580\n",
       "2020-01-01 01:00:00    92.180\n",
       "2020-01-01 02:00:00    94.000\n",
       "2020-01-01 03:00:00    96.830\n",
       "2020-01-01 04:00:00    94.920\n",
       "...                       ...\n",
       "2022-05-30 19:00:00   324.727\n",
       "2022-05-30 20:00:00   326.391\n",
       "2022-05-30 21:00:00   329.216\n",
       "2022-05-30 22:00:00   333.479\n",
       "2022-05-30 23:00:00   316.220\n",
       "\n",
       "[21144 rows x 1 columns]"
      ]
     },
     "execution_count": 143,
     "metadata": {},
     "output_type": "execute_result"
    }
   ],
   "source": [
    "Hour_Load"
   ]
  },
  {
   "cell_type": "markdown",
   "id": "84d2376f",
   "metadata": {},
   "source": [
    "### Hour_Load graphics"
   ]
  },
  {
   "cell_type": "code",
   "execution_count": 144,
   "id": "6c4e1ca6",
   "metadata": {},
   "outputs": [],
   "source": [
    "#Hour_Load = Hour_Load.set_index('Zeitstempel') #set time to index\n",
    "Hour_Load['Grundlast'] = np.full((len(Hour_Load)),Hour_Load.min()[0]) #ne column only with the base load\n",
    "#Hour_Load"
   ]
  },
  {
   "cell_type": "code",
   "execution_count": 145,
   "id": "46a0c6ce",
   "metadata": {},
   "outputs": [],
   "source": [
    "Hload_min = pd.DataFrame({'Grundlast_Datum':[Hour_Load['Lastgang'].min()] , 'Zeitstempel': [Hour_Load['Lastgang'].idxmin()] }) #creates a new column onlie with the base values\n",
    "Hload_min = Hload_min.set_index('Zeitstempel') #sets index \n",
    "#Hload_min"
   ]
  },
  {
   "cell_type": "code",
   "execution_count": 146,
   "id": "37d350a7",
   "metadata": {},
   "outputs": [],
   "source": [
    "Hload_max = pd.DataFrame({'Spitzenlast':[Hour_Load['Lastgang'].max()] , 'Zeitstempel': [Hour_Load['Lastgang'].idxmax()] })\n",
    "Hload_max = Hload_max.set_index('Zeitstempel')\n",
    "#Hload_max"
   ]
  },
  {
   "cell_type": "code",
   "execution_count": 147,
   "id": "354c382e",
   "metadata": {},
   "outputs": [],
   "source": [
    "# Join to Hour load\n",
    "\n",
    "Hour_Load = Hour_Load.join(Hload_max) \n",
    "Hour_Load = Hour_Load.join(Hload_min)\n",
    "#Hour_Load"
   ]
  },
  {
   "cell_type": "markdown",
   "id": "b252d1a2",
   "metadata": {},
   "source": [
    "## Create a folder when not exist to save html pots"
   ]
  },
  {
   "cell_type": "code",
   "execution_count": 148,
   "id": "8657b4a6",
   "metadata": {},
   "outputs": [],
   "source": [
    "#os to check path\n",
    "\n",
    "if not os.path.exists(\"Plots\"): #if there is no folder create a new one\n",
    "    os.mkdir(\"Plots\")"
   ]
  },
  {
   "cell_type": "markdown",
   "id": "b341c202",
   "metadata": {},
   "source": [
    "## Plotly Graph"
   ]
  },
  {
   "cell_type": "code",
   "execution_count": 149,
   "id": "db608917",
   "metadata": {},
   "outputs": [],
   "source": [
    "import plotly.graph_objects as go\n",
    "#from kaleido.scopes.plotly import PlotlyScope\n",
    "\n",
    "fig = go.Figure()\n",
    "\n",
    "# Add traces\n",
    "fig.add_trace(go.Scatter(x=Hour_Load.index, y =  Hour_Load['Lastgang'], #x an y labels by data\n",
    "                    mode='lines', #can be lines, makers, or lines+makers\n",
    "                    name='Lastgang',#name of label\n",
    "                    line=dict(\n",
    "                        color='darkgreen', #line color \n",
    "                        width=2,) #line width)\n",
    "\n",
    "            ))\n",
    "\n",
    "fig.add_trace(go.Scatter(x=Hour_Load.index, y =  Hour_Load['Spitzenlast'],\n",
    "                    mode='markers',\n",
    "                    name='Spitzenlast',#name of label\n",
    "                    marker_symbol= 'square-dot' , # symbol names:https://plotly.com/python/marker-style/\n",
    "                    marker=dict(\n",
    "                        color='red', #maker color\n",
    "                        size=10,     #maker size\n",
    "                        line=dict(\n",
    "                            color='black', #maker linecolor\n",
    "                            width=3 ))  #maker linesize\n",
    "            ))\n",
    "\n",
    "fig.add_trace(go.Scatter(x=Hour_Load.index, y =  Hour_Load['Grundlast'],\n",
    "                    mode='lines',\n",
    "                    name='Grundlast',#name of label\n",
    "                    line=dict(\n",
    "                        color='orange', #line color \n",
    "                        width=3, #line width\n",
    "                        ) \n",
    "            ))\n",
    "\n",
    "fig.add_trace(go.Scatter(x=Hour_Load.index, y =  Hour_Load['Grundlast_Datum'],\n",
    "                    mode='markers',\n",
    "                    name='Grundlast_Tag',#name of label\n",
    "                    marker_symbol= 'arrow-up' ,\n",
    "                    marker=dict(\n",
    "                        color='orange', #maker color\n",
    "                        size=13 )\n",
    "                        )\n",
    ")\n",
    "\n",
    "\n",
    "fig.update_yaxes(title_text=\"[kW]\",\n",
    "                ) # name of y-label\n",
    "\n",
    "fig.update_layout( # customize font and legend orientation & position\n",
    "    font_family=\"Arial\", #Change font\n",
    "    font=dict(size=16), #Change font size\n",
    "    width=1080, height=720, #Change fig size\n",
    "    title= None,  #Set diagramm title\n",
    "    template=\"none\", #set a tamplate [simple_white,ggplot2,seaborn,none,plotly_dark]\n",
    "    margin = dict(l=85, r=35, b=50, t=85), #Change margins\n",
    "    \n",
    "    legend=dict(\n",
    "        title=None, \n",
    "        orientation=\"h\",    # position of Labels vertival: 'v', horizontal: 'h'\n",
    "        y=1.05 , yanchor=\"bottom\", # float for distance  ,  y oriantation of Labels ['auto', 'top', 'middle', 'bottom']\n",
    "        x=0.5, xanchor=\"auto\",   # float for distance  , y oriantation of Labels ['auto', 'left', 'center', 'right']\n",
    "        #font=dict(size=16)\n",
    "    )\n",
    "    \n",
    "    )\n",
    "\n",
    "#Save fig as html file\n",
    "\n",
    "fig.write_html(f\"Plots/{Excel_name}_Load_hourly.html\")\n",
    "\n",
    "\n",
    "# Save fig to exle - - - this doesn't work cause you need xlwings pro!!\n",
    "#Sheet_name2 = 'A_Stunden'\n",
    "#sheet2 = wk.sheets(Sheet_name2)\n",
    "#sheet2.pictures.add(fig, name='LOAD', update=True, left=sheet.range('D10').left, top=sheet.range('D10').top) #Speichern in Excel"
   ]
  },
  {
   "cell_type": "code",
   "execution_count": 150,
   "id": "c5d79873",
   "metadata": {
    "scrolled": false
   },
   "outputs": [],
   "source": [
    "#sns.displot(tips['tip'], kde = True, bins=20)\n",
    "#sns.displot(Load_profile[\"Lastgang\"],  kde = False, bins=8760, height=10, aspect=1.8)"
   ]
  },
  {
   "cell_type": "code",
   "execution_count": 151,
   "id": "2045bb3a",
   "metadata": {},
   "outputs": [],
   "source": [
    "#sns.displot(data=Load_profile,x='Zeitstempel', y=\"Lastgang\", multiple=\"stack\",kind=\"kde\")"
   ]
  },
  {
   "cell_type": "markdown",
   "id": "57d45299",
   "metadata": {},
   "source": [
    "# !!!Aufgabe: Jahresdauerlinie"
   ]
  },
  {
   "cell_type": "markdown",
   "id": "4f4c2d61",
   "metadata": {},
   "source": [
    "### !!Wenn mehrere Jahre vorhanden sind Auswahl über die das Betrachtungsjahr einbauen "
   ]
  },
  {
   "cell_type": "markdown",
   "id": "64862d55",
   "metadata": {},
   "source": [
    "### Create a list of all given years "
   ]
  },
  {
   "cell_type": "code",
   "execution_count": 152,
   "id": "dd12538e",
   "metadata": {},
   "outputs": [
    {
     "data": {
      "text/plain": [
       "[2020, 2021, 2022]"
      ]
     },
     "execution_count": 152,
     "metadata": {},
     "output_type": "execute_result"
    }
   ],
   "source": [
    "first_year  = Hour_Load.index[1].year\n",
    "last_year = Hour_Load.index[-1].year\n",
    "\n",
    "all_years = [i+1 for i in range (first_year-1 ,last_year) ]\n",
    "all_years"
   ]
  },
  {
   "cell_type": "markdown",
   "id": "0deb6ef4",
   "metadata": {},
   "source": [
    "## Create a Dataframe with sorted values for every given year"
   ]
  },
  {
   "cell_type": "code",
   "execution_count": 153,
   "id": "d39ac455",
   "metadata": {},
   "outputs": [],
   "source": [
    "lenght = [len(Hour_Load[Hour_Load['Lastgang'].index.year == i]) for i in all_years ] # get longest year -> leap year \n",
    "annual_lines = pd.DataFrame(np.arange( max(lenght) )).set_index(0)          #creat an array with all hours in year with max years    \n",
    "annual_lines['Jahresstunden'] = pd.DataFrame(np.arange((max(lenght)),0,-1)) #create a new dataframe to save while iterating\n",
    "\n",
    "H_Load = Hour_Load['Lastgang']\n",
    "\n",
    "for i in all_years:\n",
    "    H_LoadY = H_Load[H_Load.index.year == i] #slice index by year \n",
    "    H_LoadY = H_LoadY.sort_values(ascending=True) #Sort data - smalest first \n",
    "    H_LoadY = H_LoadY.reset_index(drop=True)     #drop index\n",
    "    annual_lines[f'Lastgang{i}'] = H_LoadY\n",
    "\n",
    "#annual_lines"
   ]
  },
  {
   "cell_type": "code",
   "execution_count": 154,
   "id": "4d648632",
   "metadata": {},
   "outputs": [],
   "source": [
    "fig = go.Figure()\n",
    "\n",
    "# Add traces\n",
    "for i in all_years:\n",
    "    fig.add_trace(go.Scatter(y=annual_lines[f'Lastgang{i}'], x =  annual_lines['Jahresstunden'], #x an y labels by data\n",
    "                        mode='lines', #can be lines, makers, or lines+makers\n",
    "                        name=f'Lastgang{i}'#name of label\n",
    "\n",
    "\n",
    "\n",
    "\n",
    ") ) \n",
    "\n",
    "fig.update_yaxes(title_text=\"Leistung [kW]\",\n",
    "                ) # name of y-label\n",
    "\n",
    "fig.update_xaxes(title_text=\"Anzahle Stunden\",\n",
    "                ) # name of x-label\n",
    "\n",
    "fig.update_layout( # customize font and legend orientation & position\n",
    "    font_family=\"Arial\", #Change font\n",
    "    font=dict(size=16), #Change font size\n",
    "    width=1080, height=720, #Change fig size\n",
    "    title= None,  #Set diagramm title\n",
    "    template=\"none\", #set a tamplate [simple_white,ggplot2,seaborn,none,plotly_dark]\n",
    "    margin = dict(l=85, r=35, b=50, t=85), #Change margins\n",
    "    #separators = ', ', #change seperator for dezimal sep\n",
    " \n",
    "\n",
    "    \n",
    "\n",
    "    legend=dict(\n",
    "        title=None, \n",
    "        orientation=\"h\",    # position of Labels vertival: 'v', horizontal: 'h'\n",
    "        y=1.05 , yanchor=\"bottom\", # float for distance  ,  y oriantation of Labels ['auto', 'top', 'middle', 'bottom']\n",
    "        x=0.5, xanchor=\"auto\",   # float for distance  , y oriantation of Labels ['auto', 'left', 'center', 'right']\n",
    "        #font=dict(size=16)\n",
    "    ))\n",
    "\n",
    "    #Save fig as html file\n",
    "\n",
    "fig.write_html(f\"Plots/{Excel_name}_annual_line.html\")\n",
    "\n"
   ]
  },
  {
   "cell_type": "markdown",
   "id": "9f17cc13",
   "metadata": {},
   "source": [
    "# !!!Aufgabe: Spitzenlasttag"
   ]
  },
  {
   "cell_type": "markdown",
   "id": "ec4110e8",
   "metadata": {},
   "source": [
    "### !!Tag mit Spitzenlast herrausfinden \n",
    "datum als suche für den Tag nutzen \n",
    "Tag als diagramm darstellen"
   ]
  },
  {
   "cell_type": "code",
   "execution_count": null,
   "id": "8d48071c",
   "metadata": {},
   "outputs": [],
   "source": []
  },
  {
   "cell_type": "markdown",
   "id": "ba1cb93a",
   "metadata": {},
   "source": [
    "# !!!Aufgabe: Heatmap (Spektarlanalyse)"
   ]
  },
  {
   "cell_type": "markdown",
   "id": "d19afe2b",
   "metadata": {},
   "source": [
    "### !!Neuen Dataframe erstellen Index = alle Viertelstunden eines Tages -> Columns = jeder Tag des Jahres"
   ]
  },
  {
   "cell_type": "code",
   "execution_count": null,
   "id": "91328882",
   "metadata": {},
   "outputs": [],
   "source": []
  },
  {
   "cell_type": "markdown",
   "id": "f588ee4d",
   "metadata": {},
   "source": [
    "# !!! Augabe: Wochentagmittel "
   ]
  },
  {
   "cell_type": "markdown",
   "id": "fe18b3b5",
   "metadata": {},
   "source": [
    "### Welche art des Mittelwertes? \n"
   ]
  },
  {
   "cell_type": "markdown",
   "id": "6c6f9193",
   "metadata": {},
   "source": [
    "# !!! Aufgabe Boxplotdarstellung"
   ]
  },
  {
   "cell_type": "markdown",
   "id": "0b545439",
   "metadata": {},
   "source": [
    "# !!! Aufgabe: Ergebnisse in Excel abspeichern Auch Grafiken!"
   ]
  },
  {
   "cell_type": "markdown",
   "id": "cbf3be68",
   "metadata": {},
   "source": [
    "### 1. Mappe = aufbereiteter Ausgangslastgang\n",
    " 2. Mappe = auf Monate aggregiert\n",
    " 3. Mappe = auf Wochen aggregiert\n",
    " 4. Mappe = auf Tage aggregiert\n",
    " 5. Mappe = auf Stunden aggregiert \n",
    " 6. Mappe = Darstellung der Spktralanalyse mit Werten \n",
    "\n",
    " Weitere Mappen mit den Oben stehenden Diagrammen "
   ]
  },
  {
   "cell_type": "code",
   "execution_count": 155,
   "id": "017a88e8",
   "metadata": {},
   "outputs": [
    {
     "data": {
      "text/plain": [
       "<bound method Book.close of <Book [Lastgangtool-Mappe.xlsx]>>"
      ]
     },
     "execution_count": 155,
     "metadata": {},
     "output_type": "execute_result"
    }
   ],
   "source": [
    "#wk = xw.Book(Excel_name) # Öffnen der Excel \n",
    "\n",
    "sheet = wk.sheets('A_Lastgang') #Öffnen der Excel-Arbeitsmappe \n",
    "df = sheet.range('A1').value = Load_profile_ready\n",
    "df = sheet.range('A1').value = '[' + Energie_Unit +']'\n",
    "\n",
    "sheet = wk.sheets('A_Stunden') #Öffnen der Excel-Arbeitsmappe \n",
    "df = sheet.range('A1').value = Hour_Load\n",
    "df = sheet.range('A1').value = '[kWh]'\n",
    "\n",
    "sheet = wk.sheets('A_Tage') #Öffnen der Excel-Arbeitsmappe \n",
    "df = sheet.range('A1').value = Day_Load\n",
    "df = sheet.range('A1').value = '[kWh]'\n",
    "\n",
    "sheet = wk.sheets('A_Wochen') #Öffnen der Excel-Arbeitsmappe \n",
    "df = sheet.range('A1').value = Week_Load\n",
    "df = sheet.range('A1').value = '[kWh]'\n",
    "\n",
    "sheet = wk.sheets('A_Monate') #Öffnen der Excel-Arbeitsmappe \n",
    "df = sheet.range('A1').value = Month_Load\n",
    "df = sheet.range('A1').value = '[kWh]'\n",
    "\n",
    "wk.close"
   ]
  },
  {
   "cell_type": "markdown",
   "id": "127e65c1",
   "metadata": {},
   "source": [
    "# !!!Aufgabe Veröffentlichen als .exe -Datei und in Abteilung vorstellen "
   ]
  },
  {
   "cell_type": "markdown",
   "id": "09849a06",
   "metadata": {},
   "source": [
    "# !!!Nächster Schritt -> Aufgabe: GUI mit pyqt5  "
   ]
  },
  {
   "cell_type": "markdown",
   "id": "7a1ebc63",
   "metadata": {},
   "source": [
    "### Arten der Filterung: Tag, Wochenenden, Wochentage, "
   ]
  },
  {
   "cell_type": "markdown",
   "id": "9444f70d",
   "metadata": {},
   "source": [
    "### !!erstellen mit Upload möglichkeit von excel und csv Datein Graphische ausgabe mit der Möglichkeit auszuwählen welche diagramme und Tabbellen gespeichert werden sollen"
   ]
  },
  {
   "cell_type": "markdown",
   "id": "4d57a073",
   "metadata": {},
   "source": [
    "# !!!Aufgabe: Regression mit Wetterdaten sowie Klimabereinigung "
   ]
  },
  {
   "cell_type": "markdown",
   "id": "484a3a2f",
   "metadata": {},
   "source": [
    "###  !!einlesen von Klimadaten oder noch besser auswahl eines Standort und automatisches einlesen der Klimadaten (Downlod deutscher Wetterdienst)"
   ]
  },
  {
   "cell_type": "markdown",
   "id": "37cedb5f",
   "metadata": {},
   "source": [
    "### !!Regression mit Ausgabe des Einflusses durch R^2"
   ]
  },
  {
   "cell_type": "markdown",
   "id": "6011f973",
   "metadata": {},
   "source": [
    "### !!Klimabereinigung des eingeladenen Lastganges mit Wetterdaten "
   ]
  },
  {
   "cell_type": "markdown",
   "id": "36a2b4d0",
   "metadata": {},
   "source": [
    "### Spitzenlast reduktion mit monetären abschätzung (Preisstaffelung)"
   ]
  },
  {
   "cell_type": "markdown",
   "id": "33fc8ad2",
   "metadata": {},
   "source": [
    "### Branchen vergleich mit SLP"
   ]
  }
 ],
 "metadata": {
  "kernelspec": {
   "display_name": "Python 3.10.1 64-bit",
   "language": "python",
   "name": "python3"
  },
  "language_info": {
   "codemirror_mode": {
    "name": "ipython",
    "version": 3
   },
   "file_extension": ".py",
   "mimetype": "text/x-python",
   "name": "python",
   "nbconvert_exporter": "python",
   "pygments_lexer": "ipython3",
   "version": "3.10.1"
  },
  "vscode": {
   "interpreter": {
    "hash": "26de051ba29f2982a8de78e945f0abaf191376122a1563185a90213a26c5da77"
   }
  }
 },
 "nbformat": 4,
 "nbformat_minor": 5
}
