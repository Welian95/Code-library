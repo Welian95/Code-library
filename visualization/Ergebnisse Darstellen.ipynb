{
 "cells": [
  {
   "cell_type": "code",
   "execution_count": 3,
   "id": "preliminary-thong",
   "metadata": {},
   "outputs": [
    {
     "ename": "FileNotFoundError",
     "evalue": "[Errno 2] No such file or directory: 'files/output.json'",
     "output_type": "error",
     "traceback": [
      "\u001b[1;31m---------------------------------------------------------------------------\u001b[0m",
      "\u001b[1;31mFileNotFoundError\u001b[0m                         Traceback (most recent call last)",
      "\u001b[1;32mC:\\Users\\JWESTE~1\\AppData\\Local\\Temp/ipykernel_21376/3804834881.py\u001b[0m in \u001b[0;36m<module>\u001b[1;34m\u001b[0m\n\u001b[0;32m      3\u001b[0m \u001b[1;32mfrom\u001b[0m \u001b[0mdatetime\u001b[0m \u001b[1;32mimport\u001b[0m \u001b[0mdate\u001b[0m\u001b[1;33m\u001b[0m\u001b[1;33m\u001b[0m\u001b[0m\n\u001b[0;32m      4\u001b[0m \u001b[1;33m\u001b[0m\u001b[0m\n\u001b[1;32m----> 5\u001b[1;33m \u001b[1;32mwith\u001b[0m \u001b[0mopen\u001b[0m\u001b[1;33m(\u001b[0m\u001b[1;34m'files/output.json'\u001b[0m\u001b[1;33m)\u001b[0m \u001b[1;32mas\u001b[0m \u001b[0mf\u001b[0m\u001b[1;33m:\u001b[0m\u001b[1;33m\u001b[0m\u001b[1;33m\u001b[0m\u001b[0m\n\u001b[0m\u001b[0;32m      6\u001b[0m     \u001b[0mdata\u001b[0m \u001b[1;33m=\u001b[0m \u001b[0mjson\u001b[0m\u001b[1;33m.\u001b[0m\u001b[0mload\u001b[0m\u001b[1;33m(\u001b[0m\u001b[0mf\u001b[0m\u001b[1;33m)\u001b[0m\u001b[1;33m\u001b[0m\u001b[1;33m\u001b[0m\u001b[0m\n",
      "\u001b[1;31mFileNotFoundError\u001b[0m: [Errno 2] No such file or directory: 'files/output.json'"
     ]
    }
   ],
   "source": [
    "import json \n",
    "from docx import Document\n",
    "from datetime import date\n",
    "\n",
    "with open('files/output.json') as f:\n",
    "    data = json.load(f)"
   ]
  },
  {
   "cell_type": "code",
   "execution_count": 44,
   "id": "danish-scope",
   "metadata": {},
   "outputs": [
    {
     "data": {
      "text/plain": [
       "{'cb': {'id': 'h3',\n",
       "  'Q_N': 15,\n",
       "  'Q_F': 1,\n",
       "  'alpha': 33,\n",
       "  'H_Dach': 3.7,\n",
       "  'a': 5.7,\n",
       "  'H_First': 10.4,\n",
       "  'height': 0,\n",
       "  'gamma': 2.0,\n",
       "  'f': 0.66,\n",
       "  'H_U': 0.4,\n",
       "  'H_A1': 2.8},\n",
       " 'origin': 'h1',\n",
       " 'up': [{'L_RZ': 21.6,\n",
       "   'l_A': 17.7,\n",
       "   'id': 'h1',\n",
       "   'H_2V': 2.76,\n",
       "   'H_A2': -1.8,\n",
       "   'H_A2T': -3.9000000000000004},\n",
       "  {'L_RZ': 13.0, 'l_A': 24.4, 'id': 'h2'}],\n",
       " 'H_M': 2.8}"
      ]
     },
     "execution_count": 44,
     "metadata": {},
     "output_type": "execute_result"
    }
   ],
   "source": [
    "data"
   ]
  },
  {
   "cell_type": "code",
   "execution_count": 48,
   "id": "passing-theater",
   "metadata": {},
   "outputs": [],
   "source": [
    "document = Document()\n",
    "\n",
    "document.add_heading('Ergebnisse Schornsteinhöhenberechnung', 0)\n",
    "\n",
    "today = date.today()\n",
    "\n",
    "p = document.add_paragraph('Ergebnisse vom ')\n",
    "p.add_run(today.strftime(\"%d/%m/%Y\")).bold = True\n",
    "p.add_run(' für das Haus ')\n",
    "p.add_run('{}.'.format(data['cb']['id'])).italic = True\n",
    "\n",
    "document.add_paragraph('Der Schornstein muss eine Mindesthöhe von {}m aufweisen. Die Schornsteinhöhe wurde auf Basis der Parameter von Haus {} ermittelt.'.format(data['H_M'], data['origin']))\n",
    "\n",
    "document.add_heading('Haus mit Kamin: {}'.format(data['cb']['id']), level=1)\n",
    "table = document.add_table(rows=1, cols=3)\n",
    "hdr_cells = table.rows[0].cells\n",
    "hdr_cells[0].text = 'Name'\n",
    "hdr_cells[1].text = 'Wert'\n",
    "for key in data['cb'].keys():\n",
    "    row_cells = table.add_row().cells\n",
    "    row_cells[0].text = key\n",
    "    row_cells[1].text = str(data['cb'][key])\n",
    "  \n",
    "document.add_heading('Vergelagerte Gebäude', level=1)\n",
    "for item in data['up']:\n",
    "    document.add_heading('Haus: {}'.format(item['id']), level=2)\n",
    "    table = document.add_table(rows=1, cols=3)\n",
    "    hdr_cells = table.rows[0].cells\n",
    "    hdr_cells[0].text = 'Name'\n",
    "    hdr_cells[1].text = 'Wert'\n",
    "    for key in item.keys():\n",
    "        row_cells = table.add_row().cells\n",
    "        row_cells[0].text = key\n",
    "        row_cells[1].text = str(item[key])\n",
    "\n",
    "document.save('Ergebnisse.docx')"
   ]
  },
  {
   "cell_type": "code",
   "execution_count": null,
   "id": "essential-pension",
   "metadata": {},
   "outputs": [],
   "source": []
  }
 ],
 "metadata": {
  "kernelspec": {
   "display_name": "Python 3 (ipykernel)",
   "language": "python",
   "name": "python3"
  },
  "language_info": {
   "codemirror_mode": {
    "name": "ipython",
    "version": 3
   },
   "file_extension": ".py",
   "mimetype": "text/x-python",
   "name": "python",
   "nbconvert_exporter": "python",
   "pygments_lexer": "ipython3",
   "version": "3.10.1"
  }
 },
 "nbformat": 4,
 "nbformat_minor": 5
}
