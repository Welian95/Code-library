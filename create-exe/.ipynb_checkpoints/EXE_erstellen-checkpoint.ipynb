{
 "cells": [
  {
   "cell_type": "markdown",
   "id": "1451da1e",
   "metadata": {},
   "source": [
    "# Python-Datei als .exe abspeichern"
   ]
  },
  {
   "cell_type": "markdown",
   "id": "38cc48d6",
   "metadata": {},
   "source": [
    "## Installation in der Eingabeaufforderung"
   ]
  },
  {
   "cell_type": "raw",
   "id": "46bcaec8",
   "metadata": {},
   "source": [
    "pip install auto-py-to-exe"
   ]
  },
  {
   "cell_type": "markdown",
   "id": "10173b7b",
   "metadata": {},
   "source": [
    "## Ausführen des Programms \"Auto-py-to-exe\" mit Eingbeaufforderung"
   ]
  },
  {
   "cell_type": "raw",
   "id": "3758852f",
   "metadata": {},
   "source": [
    "auto-py-to-exe"
   ]
  },
  {
   "cell_type": "markdown",
   "id": "e6758a71",
   "metadata": {},
   "source": [
    "## 1. In der Skript Location das python-script auswählen "
   ]
  },
  {
   "cell_type": "markdown",
   "id": "f73730e6",
   "metadata": {},
   "source": [
    "## 2. Auswahl ob ein Verzeichniss oder nur eine Datei(eine exe) erstellt werden soll "
   ]
  },
  {
   "cell_type": "markdown",
   "id": "5940aa85",
   "metadata": {},
   "source": [
    "## 3. Konsolen Fenster beim ausführen öffnen? "
   ]
  },
  {
   "cell_type": "markdown",
   "id": "dc9c0190",
   "metadata": {},
   "source": [
    "# 4. Mehrer Dateine auf die sich die .py bezieht!"
   ]
  },
  {
   "cell_type": "markdown",
   "id": "bfab7212",
   "metadata": {},
   "source": [
    "#### Sind weitere Dateine vorhanden müssen diese mit angegeben werden "
   ]
  },
  {
   "cell_type": "markdown",
   "id": "be9badfc",
   "metadata": {},
   "source": [
    "### Hierbei ist darauf zu achten das ein Neue Ordner Bsp. '.img' angelgt werden muss."
   ]
  },
  {
   "cell_type": "markdown",
   "id": "a0ea9b60",
   "metadata": {},
   "source": [
    "### Achtung! der neue Angelegte Ordner muss im Python-Code als Pfad angegeben werden! "
   ]
  },
  {
   "cell_type": "markdown",
   "id": "beafcd02",
   "metadata": {},
   "source": [
    "# The Output Executable is Huge -- Fehlerbehebung wenn die Datei sehr groß ist\n",
    "Sometimes pyinstaller tries to be smart and will add packages it sees in your environment even if you are not using them in the project being packaged. This can lead to output executables being tens to hundreds of megabytes in size.\n",
    "\n",
    "To get around this, the easiest way would be to:\n",
    "\n",
    "1. Create a new/clean virtual environment\n",
    "2. Install auto-py-to-exe into it\n",
    "3. Install the required modules for your project\n",
    "4. Use the auto-py-to-exe in this virtual environment to package your script"
   ]
  },
  {
   "cell_type": "markdown",
   "id": "eaf3e434",
   "metadata": {},
   "source": [
    "## Eingabe in cmd"
   ]
  },
  {
   "cell_type": "markdown",
   "id": "07777f37",
   "metadata": {},
   "source": [
    "### Virtuelle Umgebung erstellen "
   ]
  },
  {
   "cell_type": "raw",
   "id": "0e6782be",
   "metadata": {},
   "source": [
    "python -m venv name_der_venv"
   ]
  },
  {
   "cell_type": "markdown",
   "id": "e11c36a7",
   "metadata": {},
   "source": [
    "## Virtuelle venv aktivieren"
   ]
  },
  {
   "cell_type": "markdown",
   "id": "9d180cc7",
   "metadata": {},
   "source": [
    "## Kontrolle welche Pakete vorhanden sind"
   ]
  },
  {
   "cell_type": "raw",
   "id": "d967eca8",
   "metadata": {},
   "source": [
    "pip list"
   ]
  },
  {
   "cell_type": "markdown",
   "id": "a28a37af",
   "metadata": {},
   "source": [
    "## Installation der benötigten Pakete "
   ]
  },
  {
   "cell_type": "raw",
   "id": "bb9c8722",
   "metadata": {},
   "source": [
    "#Es müssen alle Pakete die in der Python-Datei vorhanden sind neu installiert werden"
   ]
  },
  {
   "cell_type": "raw",
   "id": "4efee269",
   "metadata": {},
   "source": [
    "pip install auto-py-to-exe"
   ]
  },
  {
   "cell_type": "raw",
   "id": "cf16a9ff",
   "metadata": {},
   "source": [
    "pip install ..."
   ]
  },
  {
   "cell_type": "markdown",
   "id": "4b5babc2",
   "metadata": {},
   "source": [
    "## Ausführen des Programms \"Auto-py-to-exe\" mit Eingbeaufforderung"
   ]
  },
  {
   "cell_type": "raw",
   "id": "365c552e",
   "metadata": {},
   "source": [
    "auto-py-to-exe"
   ]
  },
  {
   "cell_type": "markdown",
   "id": "a62dbd90",
   "metadata": {},
   "source": [
    "## Verlassen des venv"
   ]
  },
  {
   "cell_type": "raw",
   "id": "c2792555",
   "metadata": {},
   "source": [
    "name_der_venv\\Scripts\\deactivate.bat"
   ]
  },
  {
   "cell_type": "markdown",
   "id": "6e8f9088",
   "metadata": {},
   "source": [
    "# Wenn Open CV spinnt: (auch für kivy wichtig!)"
   ]
  },
  {
   "cell_type": "raw",
   "id": "8de8e9e5",
   "metadata": {},
   "source": [
    "pip install opencv-python==4.5.3.56"
   ]
  }
 ],
 "metadata": {
  "kernelspec": {
   "display_name": "Python 3 (ipykernel)",
   "language": "python",
   "name": "python3"
  },
  "language_info": {
   "codemirror_mode": {
    "name": "ipython",
    "version": 3
   },
   "file_extension": ".py",
   "mimetype": "text/x-python",
   "name": "python",
   "nbconvert_exporter": "python",
   "pygments_lexer": "ipython3",
   "version": "3.10.5"
  },
  "vscode": {
   "interpreter": {
    "hash": "26de051ba29f2982a8de78e945f0abaf191376122a1563185a90213a26c5da77"
   }
  }
 },
 "nbformat": 4,
 "nbformat_minor": 5
}
