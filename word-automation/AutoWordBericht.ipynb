{
 "cells": [
  {
   "cell_type": "markdown",
   "id": "2f6093e9",
   "metadata": {},
   "source": [
    "### Ausfüllen des Handbuchs "
   ]
  },
  {
   "cell_type": "code",
   "execution_count": 1,
   "id": "0ab45aef",
   "metadata": {},
   "outputs": [],
   "source": [
    "from docxtpl import DocxTemplate, InlineImage\n",
    "from datetime import date\n",
    "from random import randint\n",
    "import pandas as pd\n",
    "import glob\n",
    "import os\n",
    "from PIL import Image\n",
    "\n",
    "#Excel:\n",
    "import xlwings as xw"
   ]
  },
  {
   "cell_type": "markdown",
   "id": "0826b12b",
   "metadata": {},
   "source": [
    "### get todays date"
   ]
  },
  {
   "cell_type": "code",
   "execution_count": 2,
   "id": "a5737704",
   "metadata": {},
   "outputs": [],
   "source": [
    "today = date.today().strftime(\"%d.%m.%Y\") #todays date with given format"
   ]
  },
  {
   "cell_type": "markdown",
   "id": "6615e2a6",
   "metadata": {},
   "source": [
    "## Load Excel-file"
   ]
  },
  {
   "cell_type": "markdown",
   "id": "5dad1bc9",
   "metadata": {},
   "source": [
    "### list of all files that end with .xlsx in Folder"
   ]
  },
  {
   "cell_type": "code",
   "execution_count": 3,
   "id": "7563cb0f",
   "metadata": {},
   "outputs": [
    {
     "data": {
      "text/plain": [
       "['Berichtsdaten.xlsm']"
      ]
     },
     "execution_count": 3,
     "metadata": {},
     "output_type": "execute_result"
    }
   ],
   "source": [
    "xlsx_list = glob.glob(\"*.xlsm\")\n",
    "xlsx_list"
   ]
  },
  {
   "cell_type": "code",
   "execution_count": 4,
   "id": "2e0bab10",
   "metadata": {},
   "outputs": [],
   "source": [
    "Excel_name = xlsx_list[0] #gets the first excel in folder"
   ]
  },
  {
   "cell_type": "code",
   "execution_count": 5,
   "id": "1da24178",
   "metadata": {},
   "outputs": [],
   "source": [
    "wk = xw.Book(Excel_name) # opens excel-file"
   ]
  },
  {
   "cell_type": "markdown",
   "id": "985a415e",
   "metadata": {},
   "source": [
    "# Get every sheet that exists "
   ]
  },
  {
   "cell_type": "code",
   "execution_count": 6,
   "id": "2cb3186d",
   "metadata": {},
   "outputs": [],
   "source": [
    "###wk.sheets"
   ]
  },
  {
   "cell_type": "markdown",
   "id": "379adeb1",
   "metadata": {},
   "source": [
    "Sheet_Names = [ str(list(sheets.keys())[a]).split(']')[-1].split('>')[0] for a in range (len (wk.sheets)) ]\n",
    "\n",
    "Sheet_Names"
   ]
  },
  {
   "cell_type": "markdown",
   "id": "e2badda2",
   "metadata": {},
   "source": [
    "Sheet_Names[1:]"
   ]
  },
  {
   "cell_type": "markdown",
   "id": "0b52221c",
   "metadata": {},
   "source": [
    "context_data ={}\n",
    "\n",
    "for i in range (len (Sheet_Names[1:])):\n",
    "    "
   ]
  },
  {
   "cell_type": "markdown",
   "id": "1aba7e5b",
   "metadata": {},
   "source": [
    "### Create a dict with all excel tabels (beside nr.1) and but every row do another dict "
   ]
  },
  {
   "cell_type": "code",
   "execution_count": 7,
   "id": "affe8784",
   "metadata": {},
   "outputs": [],
   "source": [
    "context_data ={}"
   ]
  },
  {
   "cell_type": "code",
   "execution_count": 8,
   "id": "e00b1ca5",
   "metadata": {},
   "outputs": [],
   "source": [
    "context_data ={}\n",
    "for i in list(wk.sheets)[1:]: #begin with the second worksheet\n",
    "    sheet = wk.sheets(i)\n",
    "    context_data.update ( {str(i).split(']')[-1].split('>')[0] : sheet['A9'].expand().options(pd.DataFrame,numbers=int,empty='', dtype=str,chunksize=10_000).value.reset_index().to_dict('records')   }) #Name deklarieren und Einlesen des Inhalts-> Speichert alle Werte(.values) ab 'A9' als DataFrame, Chunksize = Matrixgröße ,numbers = int -> keine Dezimalstellen,empty=''->leere zellen sind nicht 'none',  )\n",
    "    \n",
    "#context_data\n"
   ]
  },
  {
   "cell_type": "markdown",
   "id": "99a83c20",
   "metadata": {},
   "source": [
    "### Textvariablen-sheet "
   ]
  },
  {
   "cell_type": "code",
   "execution_count": 9,
   "id": "014fba8d",
   "metadata": {},
   "outputs": [],
   "source": [
    "sheet = wk.sheets(1) #opens first map in excel"
   ]
  },
  {
   "cell_type": "code",
   "execution_count": 10,
   "id": "f8ca3132",
   "metadata": {},
   "outputs": [],
   "source": [
    "df_data = sheet['A9'].expand().options(pd.DataFrame, chunksize=10_000).value #Einlesen des Inhalts-> Speichert alle Werte(.values) ab 'A2' als DataFrame, Chunksize = Matrixgröße\n",
    "\n",
    "###df_data"
   ]
  },
  {
   "cell_type": "code",
   "execution_count": 11,
   "id": "909bedbe",
   "metadata": {},
   "outputs": [],
   "source": [
    "text_data = df_data.iloc[:,0].to_dict() #Dateframes first column to dict\n",
    "\n",
    "text_data['today']=today #add todays date\n",
    "\n",
    "###text_data"
   ]
  },
  {
   "cell_type": "code",
   "execution_count": 12,
   "id": "11740ca8",
   "metadata": {},
   "outputs": [],
   "source": [
    "objektname = text_data['Objektname'] #decline Name of objkt"
   ]
  },
  {
   "cell_type": "markdown",
   "id": "678f952e",
   "metadata": {},
   "source": [
    "## Load all Pictures "
   ]
  },
  {
   "cell_type": "markdown",
   "id": "3d14e604",
   "metadata": {},
   "source": [
    "### list of all files that are in folder 'pictures'"
   ]
  },
  {
   "cell_type": "markdown",
   "id": "9f5d0c5e",
   "metadata": {},
   "source": [
    "### Get all png files"
   ]
  },
  {
   "cell_type": "code",
   "execution_count": 13,
   "id": "3a142e44",
   "metadata": {},
   "outputs": [],
   "source": [
    "picture_list = glob.glob(\"pictures/*.png\")\n",
    "\n",
    "###picture_list"
   ]
  },
  {
   "cell_type": "code",
   "execution_count": 14,
   "id": "aeccd1f5",
   "metadata": {},
   "outputs": [],
   "source": [
    "picture_w_ending = [picture.split('\\\\')[-1] for picture in picture_list]\n",
    "\n",
    "###picture_w_ending"
   ]
  },
  {
   "cell_type": "markdown",
   "id": "28288b78",
   "metadata": {},
   "source": [
    "### Get all picture names "
   ]
  },
  {
   "cell_type": "code",
   "execution_count": 15,
   "id": "1c600355",
   "metadata": {},
   "outputs": [],
   "source": [
    "picture_name = [picture.split('.')[0] for picture in picture_w_ending]\n",
    "\n",
    "###picture_name"
   ]
  },
  {
   "cell_type": "markdown",
   "id": "73367197",
   "metadata": {},
   "source": [
    "### Read a Table with fig sizes"
   ]
  },
  {
   "cell_type": "markdown",
   "id": "f86dd1e4",
   "metadata": {},
   "source": [
    "## Load Word-file"
   ]
  },
  {
   "cell_type": "markdown",
   "id": "ccd48897",
   "metadata": {},
   "source": [
    "### list of all files that end with .docx"
   ]
  },
  {
   "cell_type": "code",
   "execution_count": 16,
   "id": "1b9bc60f",
   "metadata": {},
   "outputs": [],
   "source": [
    "docx_name = glob.glob(\"*.docx\")\n",
    "\n",
    "###docx_name"
   ]
  },
  {
   "cell_type": "markdown",
   "id": "844f20c9",
   "metadata": {},
   "source": [
    "### decline filename"
   ]
  },
  {
   "cell_type": "code",
   "execution_count": 17,
   "id": "2ad546fc",
   "metadata": {},
   "outputs": [],
   "source": [
    "docx_name = docx_name[0] #gets first docx in folder\n",
    "\n",
    "###docx_name"
   ]
  },
  {
   "cell_type": "markdown",
   "id": "a6a2f2ae",
   "metadata": {},
   "source": [
    "### Load docx-file to write in it "
   ]
  },
  {
   "cell_type": "code",
   "execution_count": 18,
   "id": "250a41e8",
   "metadata": {},
   "outputs": [],
   "source": [
    "doc = DocxTemplate(docx_name) \n",
    "\n",
    "###doc"
   ]
  },
  {
   "cell_type": "markdown",
   "id": "f63cbb29",
   "metadata": {},
   "source": [
    "## Insert Pictures"
   ]
  },
  {
   "cell_type": "code",
   "execution_count": 19,
   "id": "4e36b697",
   "metadata": {},
   "outputs": [],
   "source": [
    "###InlineImage(doc,\"pictures\\\\Auflistung_Transmission.png\",width)"
   ]
  },
  {
   "cell_type": "markdown",
   "id": "e17648e6",
   "metadata": {},
   "source": [
    "### write an insert code for each picture given "
   ]
  },
  {
   "cell_type": "code",
   "execution_count": 20,
   "id": "1b58ea68",
   "metadata": {},
   "outputs": [],
   "source": [
    "imagen = [f'(InlineImage(doc,\"{i}\"))' for i in glob.glob(\"pictures/*.png\")]\n",
    "\n",
    "###imagen"
   ]
  },
  {
   "cell_type": "markdown",
   "id": "dbdc2249",
   "metadata": {},
   "source": [
    "### write an dict to to dicline names to code "
   ]
  },
  {
   "cell_type": "code",
   "execution_count": 21,
   "id": "6b9e0305",
   "metadata": {},
   "outputs": [],
   "source": [
    "image_dict = {}\n",
    "#doc = [] # must be dicline but gets overwritten later \n",
    "\n",
    "for (name, link)  in zip (picture_name, imagen):\n",
    "\n",
    "    image_dict.update({name : eval(link)})\n",
    "    \n",
    "###image_dict"
   ]
  },
  {
   "cell_type": "markdown",
   "id": "049f3d1e",
   "metadata": {},
   "source": [
    "## Create Context to write in word "
   ]
  },
  {
   "cell_type": "markdown",
   "id": "9c664212",
   "metadata": {},
   "source": [
    "### create one dict out off multile dicts "
   ]
  },
  {
   "cell_type": "code",
   "execution_count": 22,
   "id": "d7e3c5da",
   "metadata": {},
   "outputs": [],
   "source": [
    "#dicts = [text_data,names_dict,Tabelle2_dict]\n",
    "dicts = [text_data,image_dict] \n",
    "\n",
    "#context_data = {} #ersetzen\n",
    "\n",
    "for dict in dicts:\n",
    "    context_data.update(dict)\n",
    "    \n",
    "### context_data"
   ]
  },
  {
   "cell_type": "code",
   "execution_count": null,
   "id": "795114a7",
   "metadata": {},
   "outputs": [],
   "source": []
  },
  {
   "cell_type": "code",
   "execution_count": 23,
   "id": "3aeb731e",
   "metadata": {},
   "outputs": [],
   "source": [
    "context = context_data"
   ]
  },
  {
   "cell_type": "markdown",
   "id": "9006a16d",
   "metadata": {},
   "source": [
    "### write into word"
   ]
  },
  {
   "cell_type": "code",
   "execution_count": 24,
   "id": "af47743b",
   "metadata": {},
   "outputs": [],
   "source": [
    "doc.render(context)     #render context into document\n",
    "\n",
    "doc.save(f'§{today}_{objektname}_Sprinkenhof.docx') #save document with new ending count"
   ]
  },
  {
   "cell_type": "code",
   "execution_count": 25,
   "id": "59d6afdc",
   "metadata": {
    "scrolled": false
   },
   "outputs": [],
   "source": [
    "#context"
   ]
  },
  {
   "cell_type": "markdown",
   "id": "85df1aff",
   "metadata": {},
   "source": [
    "### Bildvariablen in Excel schreiben "
   ]
  },
  {
   "cell_type": "code",
   "execution_count": 26,
   "id": "5b2d0094",
   "metadata": {},
   "outputs": [],
   "source": [
    "picture_name = ['{{' + i + '}}' for i in picture_name]\n",
    "\n",
    "###picture_name"
   ]
  },
  {
   "cell_type": "code",
   "execution_count": 27,
   "id": "928fa837",
   "metadata": {},
   "outputs": [],
   "source": [
    "pic_vars = pd.DataFrame(picture_name)\n",
    "\n",
    "###pic_vars.set_index(0)"
   ]
  },
  {
   "cell_type": "code",
   "execution_count": 28,
   "id": "3a5b00ce",
   "metadata": {},
   "outputs": [
    {
     "data": {
      "text/plain": [
       "<bound method Book.close of <Book [Berichtsdaten.xlsm]>>"
      ]
     },
     "execution_count": 28,
     "metadata": {},
     "output_type": "execute_result"
    }
   ],
   "source": [
    "sheet = wk.sheets(1) #Öffnen der Excel-Arbeitsmappe \n",
    "df = sheet.range('E10').value = pic_vars.set_index(0)\n",
    "\n",
    "wk.close"
   ]
  }
 ],
 "metadata": {
  "kernelspec": {
   "display_name": "Python 3 (ipykernel)",
   "language": "python",
   "name": "python3"
  },
  "language_info": {
   "codemirror_mode": {
    "name": "ipython",
    "version": 3
   },
   "file_extension": ".py",
   "mimetype": "text/x-python",
   "name": "python",
   "nbconvert_exporter": "python",
   "pygments_lexer": "ipython3",
   "version": "3.10.5"
  }
 },
 "nbformat": 4,
 "nbformat_minor": 5
}
